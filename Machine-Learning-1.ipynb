{
 "cells": [
  {
   "cell_type": "markdown",
   "metadata": {},
   "source": [
    "1.What are 3 stages to build model in machine learning\n",
    "A: a)Managing Data b)Training Model 3)Evaluating Models"
   ]
  },
  {
   "cell_type": "code",
   "execution_count": null,
   "metadata": {},
   "outputs": [],
   "source": [
    "2.What is Standard approach to Supervised Learning\n",
    "A: Standard approach is to divide data into Training and testing data and build the model using training data and apply \n",
    "    testing data on top of that and find accuracy of the model which tells how much effiecntly our model can able to predict \n",
    "    things."
   ]
  },
  {
   "cell_type": "code",
   "execution_count": null,
   "metadata": {},
   "outputs": [],
   "source": [
    "3.What is Training set and Test Set\n",
    "A: Training Set: In Machine Learning, a training set is a dataset used to train a model. In training the model, specific features\n",
    "are picked out from the training set. These features are then incorporated into the model. Thereby, if the\n",
    "training set is labeled correctly, the model should be able to learn something from these features.\n",
    "Testing Set: The test set is a dataset used to measure how well the model performs at making predictions on that test set.\n",
    "If the prediction scores for the test set are unreasonable, we’ll have to make some adjustments to our model\n",
    "and try again."
   ]
  },
  {
   "cell_type": "markdown",
   "metadata": {},
   "source": [
    "4.What is general principle of ensemble method and what is bagging and boosting in ensemble method\n",
    "A: General Principle of emsemble method is to combine the predictions of several models built with a given algorithm inorder to remove robustness.\n",
    "Bagging: Bagging is a method in ensemble for improving unstable estimations. it can reduce errors by reducing variance term\n",
    "Boosting: Boosting is an ensemble method for improving the model predictions of any given learning algorithm. The idea of boosting is to train weak learners sequentially, each trying to correct its predecessor."
   ]
  },
  {
   "cell_type": "code",
   "execution_count": null,
   "metadata": {},
   "outputs": [],
   "source": [
    "5.How can you avoid overfitting\n",
    "A: For avoiding the overfitted model, Identify the important variables and think about the model that you are likely to \n",
    "    specify, then plan ahead to collect a sample large enough handle all predictors, interactions, and polynomial terms your \n",
    "    response variable might require."
   ]
  }
 ],
 "metadata": {
  "kernelspec": {
   "display_name": "Python 3",
   "language": "python",
   "name": "python3"
  },
  "language_info": {
   "codemirror_mode": {
    "name": "ipython",
    "version": 3
   },
   "file_extension": ".py",
   "mimetype": "text/x-python",
   "name": "python",
   "nbconvert_exporter": "python",
   "pygments_lexer": "ipython3",
   "version": "3.7.0"
  }
 },
 "nbformat": 4,
 "nbformat_minor": 2
}
